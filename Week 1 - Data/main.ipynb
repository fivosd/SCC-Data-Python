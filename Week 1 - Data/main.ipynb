{
 "cells": [
  {
   "cell_type": "code",
   "execution_count": 1,
   "metadata": {},
   "outputs": [],
   "source": [
    "import pandas as pd"
   ]
  },
  {
   "cell_type": "code",
   "execution_count": 3,
   "metadata": {},
   "outputs": [],
   "source": [
    "file = pd.read_csv(\"books.csv\")"
   ]
  },
  {
   "cell_type": "code",
   "execution_count": 17,
   "metadata": {},
   "outputs": [
    {
     "data": {
      "text/html": [
       "<div>\n",
       "<style scoped>\n",
       "    .dataframe tbody tr th:only-of-type {\n",
       "        vertical-align: middle;\n",
       "    }\n",
       "\n",
       "    .dataframe tbody tr th {\n",
       "        vertical-align: top;\n",
       "    }\n",
       "\n",
       "    .dataframe thead th {\n",
       "        text-align: right;\n",
       "    }\n",
       "</style>\n",
       "<table border=\"1\" class=\"dataframe\">\n",
       "  <thead>\n",
       "    <tr style=\"text-align: right;\">\n",
       "      <th></th>\n",
       "      <th>Title</th>\n",
       "      <th>Author</th>\n",
       "      <th>Genre</th>\n",
       "      <th>Read</th>\n",
       "      <th>Price</th>\n",
       "    </tr>\n",
       "  </thead>\n",
       "  <tbody>\n",
       "    <tr>\n",
       "      <th>0</th>\n",
       "      <td>The Smartest Guys In The Room</td>\n",
       "      <td>Bethany McLean</td>\n",
       "      <td>Buisness</td>\n",
       "      <td>No</td>\n",
       "      <td>9.99</td>\n",
       "    </tr>\n",
       "    <tr>\n",
       "      <th>1</th>\n",
       "      <td>Why I Am So Wise</td>\n",
       "      <td>Friedrich Nietesche</td>\n",
       "      <td>Philosophy</td>\n",
       "      <td>No</td>\n",
       "      <td>4.99</td>\n",
       "    </tr>\n",
       "    <tr>\n",
       "      <th>2</th>\n",
       "      <td>The Sickness Onto Death</td>\n",
       "      <td>Soren Kierkegaard</td>\n",
       "      <td>Philosophy</td>\n",
       "      <td>No</td>\n",
       "      <td>4.99</td>\n",
       "    </tr>\n",
       "    <tr>\n",
       "      <th>3</th>\n",
       "      <td>Short Cut Your Startup</td>\n",
       "      <td>Carter Reum</td>\n",
       "      <td>Buisness</td>\n",
       "      <td>No</td>\n",
       "      <td>9.99</td>\n",
       "    </tr>\n",
       "    <tr>\n",
       "      <th>4</th>\n",
       "      <td>Touching the Void</td>\n",
       "      <td>Joe Simpson</td>\n",
       "      <td>Adventure</td>\n",
       "      <td>Yes</td>\n",
       "      <td>9.99</td>\n",
       "    </tr>\n",
       "    <tr>\n",
       "      <th>5</th>\n",
       "      <td>Into Thin Air</td>\n",
       "      <td>John Krakauer</td>\n",
       "      <td>Adventure</td>\n",
       "      <td>Yes</td>\n",
       "      <td>9.99</td>\n",
       "    </tr>\n",
       "    <tr>\n",
       "      <th>6</th>\n",
       "      <td>The Road To Unfreedom</td>\n",
       "      <td>Timothy Snyder</td>\n",
       "      <td>Politics</td>\n",
       "      <td>Yes</td>\n",
       "      <td>10.99</td>\n",
       "    </tr>\n",
       "    <tr>\n",
       "      <th>7</th>\n",
       "      <td>12 Rules for Life</td>\n",
       "      <td>Jordan B. Peterson</td>\n",
       "      <td>Philosophy</td>\n",
       "      <td>Yes</td>\n",
       "      <td>9.99</td>\n",
       "    </tr>\n",
       "    <tr>\n",
       "      <th>8</th>\n",
       "      <td>Hitler's Empire</td>\n",
       "      <td>Mark Mazower</td>\n",
       "      <td>History</td>\n",
       "      <td>No</td>\n",
       "      <td>14.99</td>\n",
       "    </tr>\n",
       "    <tr>\n",
       "      <th>9</th>\n",
       "      <td>Lords of the Desert</td>\n",
       "      <td>James Barr</td>\n",
       "      <td>Politics</td>\n",
       "      <td>No</td>\n",
       "      <td>9.99</td>\n",
       "    </tr>\n",
       "  </tbody>\n",
       "</table>\n",
       "</div>"
      ],
      "text/plain": [
       "                           Title               Author       Genre Read  Price\n",
       "0  The Smartest Guys In The Room       Bethany McLean    Buisness   No   9.99\n",
       "1               Why I Am So Wise  Friedrich Nietesche  Philosophy   No   4.99\n",
       "2        The Sickness Onto Death    Soren Kierkegaard  Philosophy   No   4.99\n",
       "3         Short Cut Your Startup          Carter Reum    Buisness   No   9.99\n",
       "4              Touching the Void          Joe Simpson   Adventure  Yes   9.99\n",
       "5                  Into Thin Air        John Krakauer   Adventure  Yes   9.99\n",
       "6          The Road To Unfreedom       Timothy Snyder    Politics  Yes  10.99\n",
       "7              12 Rules for Life   Jordan B. Peterson  Philosophy  Yes   9.99\n",
       "8                Hitler's Empire         Mark Mazower     History   No  14.99\n",
       "9            Lords of the Desert           James Barr    Politics   No   9.99"
      ]
     },
     "execution_count": 17,
     "metadata": {},
     "output_type": "execute_result"
    }
   ],
   "source": [
    "file"
   ]
  },
  {
   "cell_type": "code",
   "execution_count": 28,
   "metadata": {},
   "outputs": [
    {
     "name": "stdout",
     "output_type": "stream",
     "text": [
      "You've read:  40.0 %\n",
      "Total Value: $ 95.9\n",
      "Average Price: $ 9.59\n"
     ]
    }
   ],
   "source": [
    "count = 0\n",
    "value = 0\n",
    "n = len(file.Price)\n",
    "\n",
    "for i in range(0,n):\n",
    "    if file.loc[i,'Read'] == \"Yes\":\n",
    "        count = count + 1\n",
    "    value = value + file.loc[i,'Price']\n",
    "    \n",
    "\n",
    "    \n",
    "print(\"You've read: \",(count/n)*100,\"%\")\n",
    "print(\"Total Value: $\",round(value,3))\n",
    "print(\"Average Price: $\",round(value/n,3))"
   ]
  }
 ],
 "metadata": {
  "kernelspec": {
   "display_name": "Python 3",
   "language": "python",
   "name": "python3"
  },
  "language_info": {
   "codemirror_mode": {
    "name": "ipython",
    "version": 3
   },
   "file_extension": ".py",
   "mimetype": "text/x-python",
   "name": "python",
   "nbconvert_exporter": "python",
   "pygments_lexer": "ipython3",
   "version": "3.8.5"
  }
 },
 "nbformat": 4,
 "nbformat_minor": 4
}
