{
 "metadata": {
  "language_info": {
   "codemirror_mode": {
    "name": "ipython",
    "version": 3
   },
   "file_extension": ".py",
   "mimetype": "text/x-python",
   "name": "python",
   "nbconvert_exporter": "python",
   "pygments_lexer": "ipython3",
   "version": "3.8.5-final"
  },
  "orig_nbformat": 2,
  "kernelspec": {
   "name": "python3",
   "display_name": "Python 3",
   "language": "python"
  }
 },
 "nbformat": 4,
 "nbformat_minor": 2,
 "cells": [
  {
   "cell_type": "code",
   "execution_count": null,
   "metadata": {},
   "outputs": [],
   "source": [
    "# Week 5 - Financial APIs // building a client"
   ]
  },
  {
   "cell_type": "code",
   "execution_count": 7,
   "metadata": {},
   "outputs": [],
   "source": [
    "import requests \n",
    "import pandas as pd\n",
    "import io\n",
    "import matplotlib as plt\n",
    "import numpy as np\n",
    "from scipy import stats\n",
    "import matplotlib.pyplot as plta"
   ]
  },
  {
   "cell_type": "code",
   "execution_count": 38,
   "metadata": {},
   "outputs": [],
   "source": [
    "API_KEY = \"J9C3GHZ237UWFTA2\""
   ]
  },
  {
   "cell_type": "code",
   "execution_count": 9,
   "metadata": {},
   "outputs": [],
   "source": [
    "def alpha_vantage_equity(symb,API_KEY):\n",
    "    link = 'https://www.alphavantage.co/query?function=TIME_SERIES_DAILY_ADJUSTED&symbol={}&outputsize=full&apikey={}&datatype=csv'.format(symb,API_KEY)\n",
    "    rq = requests.get(link)\n",
    "    urlData = rq.content\n",
    "    rawData = pd.read_csv(io.StringIO(urlData.decode('utf-8')))\n",
    "    # returns encoded utf-8 CSV format but in a Pandas DataFrame\n",
    "    return rawData"
   ]
  },
  {
   "cell_type": "code",
   "execution_count": 42,
   "metadata": {},
   "outputs": [],
   "source": [
    "def build_table(symb,API_KEY):\n",
    "    \n",
    "    data = alpha_vantage_equity(symb,API_KEY)\n",
    "    # in 1 year there are 252 trading days \n",
    "    year_data = data[0:252]\n",
    "    frame = year_data.sort_values(by='timestamp')\n",
    "    frame.set_index('timestamp',inplace=True)\n",
    "    frame['Returns'] = frame['adjusted_close'].pct_change()\n",
    "    r_timeseries = frame.Returns.dropna()\n",
    "\n",
    "    # mean\n",
    "    mean = np.mean(r_timeseries)\n",
    "    # annualized return\n",
    "    m_annual = ((1+mean)**252)-1\n",
    "\n",
    "\n",
    "    # risk measures\n",
    "    vol = (np.std(r_timeseries))**2\n",
    "    v_annual = np.std(r_timeseries)*np.sqrt(252)\n",
    "\n",
    "    risk_free_rate = 1.60\n",
    "    # sharpe ratio   ASSET A has AR - 207% and a risk of 50% ---- RF ER=0 and risk of 0%\n",
    "    sr = (m_annual-risk_free_rate)/(v_annual/np.sqrt(252))\n",
    "\n",
    "    out = [m_annual,v_annual,sr]\n",
    "    \n",
    "\n",
    "    return out"
   ]
  },
  {
   "cell_type": "code",
   "execution_count": 44,
   "metadata": {},
   "outputs": [
    {
     "output_type": "execute_result",
     "data": {
      "text/plain": [
       "[1.0363488296751693, 0.4025890968952986, -22.225353359599545]"
      ]
     },
     "metadata": {},
     "execution_count": 44
    }
   ],
   "source": [
    "build_table('FB',API_KEY)"
   ]
  }
 ]
}